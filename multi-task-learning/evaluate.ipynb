{
 "cells": [
  {
   "cell_type": "code",
   "execution_count": 1,
   "metadata": {},
   "outputs": [
    {
     "name": "stderr",
     "output_type": "stream",
     "text": [
      "/home/ubuntu/anaconda3/envs/tensorflow_p36/lib/python3.6/importlib/_bootstrap.py:219: RuntimeWarning: compiletime version 3.5 of module 'tensorflow.python.framework.fast_tensor_util' does not match runtime version 3.6\n",
      "  return f(*args, **kwds)\n"
     ]
    },
    {
     "name": "stdout",
     "output_type": "stream",
     "text": [
      "Load smile image...................\n",
      "Done !\n",
      "Number of smile train data:  3000\n",
      "---------------------------------------------------------------\n",
      "Load gender image...................\n",
      "Done !\n",
      "Number of gender train data:  150000\n",
      "---------------------------------------------------------------\n",
      "Load age image...................\n",
      "Done !\n",
      "Number of age train data:  150000\n",
      "---------------------------------------------------------------\n"
     ]
    },
    {
     "data": {
      "text/plain": [
       "'--------------------------------------------------------------------------------------------'"
      ]
     },
     "execution_count": 1,
     "metadata": {},
     "output_type": "execute_result"
    }
   ],
   "source": [
    "import CNN2Head_input\n",
    "import tensorflow as tf\n",
    "import numpy as np\n",
    "import BKNetStyle\n",
    "from const import *\n",
    "\n",
    "NUMBER_SMILE_TEST = 1000\n",
    "NUMBER_GENDER_TEST = 1118\n",
    "\n",
    "''' PREPARE DATA '''\n",
    "smile_train, smile_test = CNN2Head_input.getSmileImage()\n",
    "gender_train, gender_test = CNN2Head_input.getGenderImage()\n",
    "age_train, age_test = CNN2Head_input.getAgeImage()\n",
    "'''--------------------------------------------------------------------------------------------'''"
   ]
  },
  {
   "cell_type": "code",
   "execution_count": 2,
   "metadata": {},
   "outputs": [],
   "source": [
    "def one_hot(index, num_classes):\n",
    "    assert index < num_classes and index >= 0\n",
    "    tmp = np.zeros(num_classes, dtype=np.float32)\n",
    "    tmp[index] = 1.0\n",
    "    return tmp"
   ]
  },
  {
   "cell_type": "code",
   "execution_count": 3,
   "metadata": {},
   "outputs": [],
   "source": [
    "sess = tf.InteractiveSession()\n",
    "x, y_, mask = BKNetStyle.Input()\n",
    "\n",
    "y_smile_conv, y_gender_conv, y_age_conv, phase_train, keep_prob = BKNetStyle.BKNetModel(x)"
   ]
  },
  {
   "cell_type": "code",
   "execution_count": 4,
   "metadata": {},
   "outputs": [
    {
     "name": "stdout",
     "output_type": "stream",
     "text": [
      "Restore model\n",
      "INFO:tensorflow:Restoring parameters from ./save/current/model.ckpt\n",
      "OK\n",
      "\n",
      "\n",
      "Smile task train accuracy: 92.2845691383\n",
      "Gender task train accuracy: 83.5351816635\n",
      "Age task train error: 0.569897\n"
     ]
    }
   ],
   "source": [
    "smile_loss, gender_loss, age_loss, l2_loss, loss = BKNetStyle.selective_loss(y_smile_conv, y_gender_conv,\n",
    "                                                                             y_age_conv, y_, mask)\n",
    "smile_mask = tf.get_collection('smile_mask')[0]\n",
    "gender_mask = tf.get_collection('gender_mask')[0]\n",
    "age_mask = tf.get_collection('age_mask')[0]\n",
    "\n",
    "y_smile = tf.get_collection('y_smile')[0]\n",
    "y_gender = tf.get_collection('y_gender')[0]\n",
    "y_age = tf.get_collection('y_age')[0]\n",
    "\n",
    "smile_correct_prediction = tf.equal(tf.argmax(y_smile_conv, 1), tf.argmax(y_smile, 1))\n",
    "gender_correct_prediction = tf.equal(tf.argmax(y_gender_conv, 1), tf.argmax(y_gender, 1))\n",
    "age_correct_prediction = tf.equal(tf.argmax(y_age_conv, 1), tf.argmax(y_age, 1))\n",
    "\n",
    "smile_true_pred = tf.reduce_sum(tf.cast(smile_correct_prediction, dtype=tf.float32) * smile_mask)\n",
    "gender_true_pred = tf.reduce_sum(tf.cast(gender_correct_prediction, dtype=tf.float32) * gender_mask)\n",
    "age_mae, update_op = tf.metrics.mean_absolute_error(\n",
    "    tf.argmax(y_age, 1), tf.argmax(y_age_conv, 1), name=\"age_mae\")\n",
    "running_vars = tf.get_collection(tf.GraphKeys.LOCAL_VARIABLES, scope=\"age_mae\")\n",
    "running_vars_initializer = tf.variables_initializer(var_list=running_vars)\n",
    "sess.run(running_vars_initializer)\n",
    "\n",
    "test_data = []\n",
    "\n",
    "# Mask: Smile -> 0, Gender -> 1, Age -> 2\n",
    "for i in range(len(smile_test)):\n",
    "    img = (smile_test[i % 3000][0] - 128) / 255.0\n",
    "    label = smile_test[i % 3000][1]\n",
    "    test_data.append((img, one_hot(label, 4), 0.0))\n",
    "for i in range(len(gender_test)):\n",
    "    img = (gender_test[i][0] - 128) / 255.0\n",
    "    label = (int)(gender_test[i][1])\n",
    "    test_data.append((img, one_hot(label, 4), 1.0))\n",
    "for i in range(len(age_test)):\n",
    "    img = (age_test[i][0] - 128) / 255.0\n",
    "    label = (int)(age_test[i][1])\n",
    "    test_data.append((img, one_hot(label, 4), 2.0))\n",
    "np.random.shuffle(test_data)\n",
    "\n",
    "print('Restore model')\n",
    "saver = tf.train.Saver()\n",
    "saver.restore(sess, SAVE_FOLDER + 'model.ckpt')\n",
    "print('OK')\n",
    "\n",
    "train_img = []\n",
    "train_label = []\n",
    "train_mask = []\n",
    "\n",
    "for i in range(len(test_data)):\n",
    "    train_img.append(test_data[i][0])\n",
    "    train_label.append(test_data[i][1])\n",
    "    train_mask.append(test_data[i][2])\n",
    "\n",
    "number_batch = len(test_data) // BATCH_SIZE\n",
    "\n",
    "smile_nb_true_pred = 0\n",
    "gender_nb_true_pred = 0\n",
    "\n",
    "smile_nb_train = 0\n",
    "gender_nb_train = 0\n",
    "age_nb_train = 0\n",
    "\n",
    "for batch in range(number_batch):\n",
    "\n",
    "    top = batch * BATCH_SIZE\n",
    "    bot = min((batch + 1) * BATCH_SIZE, len(test_data))\n",
    "    batch_img = np.asarray(train_img[top:bot])\n",
    "    batch_label = np.asarray(train_label[top:bot])\n",
    "    batch_mask = np.asarray(train_mask[top:bot])\n",
    "\n",
    "    # batch_img = CNN2Head_input.random_crop(batch_img, (48, 48), 10)\n",
    "\n",
    "    for i in range(BATCH_SIZE):\n",
    "        if batch_mask[i] == 0.0:\n",
    "            smile_nb_train += 1\n",
    "        else:\n",
    "            if batch_mask[i] == 1.0:\n",
    "                gender_nb_train += 1\n",
    "            else:\n",
    "                age_nb_train += 1\n",
    "\n",
    "    smile_nb_true_pred += sess.run(smile_true_pred, feed_dict={x: batch_img, y_: batch_label, mask: batch_mask,\n",
    "                                                               phase_train: False,\n",
    "                                                               keep_prob: 1})\n",
    "\n",
    "    gender_nb_true_pred += sess.run(gender_true_pred,\n",
    "                                    feed_dict={x: batch_img, y_: batch_label, mask: batch_mask,\n",
    "                                               phase_train: False,\n",
    "                                               keep_prob: 1})\n",
    "\n",
    "    sess.run(update_op,\n",
    "            feed_dict={x: batch_img, y_: batch_label, mask: batch_mask,\n",
    "                       phase_train: False,\n",
    "                       keep_prob: 1})\n",
    "\n",
    "smile_train_accuracy = smile_nb_true_pred * 1.0 / smile_nb_train\n",
    "gender_train_accuracy = gender_nb_true_pred * 1.0 / gender_nb_train\n",
    "\n",
    "print('\\n')\n",
    "print('Smile task train accuracy: ' + str(smile_train_accuracy * 100))\n",
    "print('Gender task train accuracy: ' + str(gender_train_accuracy * 100))\n",
    "age_train_error = sess.run(age_mae)\n",
    "print('Age task train error: ' + str(age_train_error))\n"
   ]
  },
  {
   "cell_type": "code",
   "execution_count": null,
   "metadata": {},
   "outputs": [],
   "source": []
  }
 ],
 "metadata": {
  "kernelspec": {
   "display_name": "Python 3",
   "language": "python",
   "name": "python3"
  },
  "language_info": {
   "codemirror_mode": {
    "name": "ipython",
    "version": 3
   },
   "file_extension": ".py",
   "mimetype": "text/x-python",
   "name": "python",
   "nbconvert_exporter": "python",
   "pygments_lexer": "ipython3",
   "version": "3.6.3"
  }
 },
 "nbformat": 4,
 "nbformat_minor": 2
}

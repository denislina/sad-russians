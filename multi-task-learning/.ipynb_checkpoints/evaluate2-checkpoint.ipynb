{
 "cells": [
  {
   "cell_type": "code",
   "execution_count": 1,
   "metadata": {},
   "outputs": [
    {
     "name": "stderr",
     "output_type": "stream",
     "text": [
      "/home/ubuntu/anaconda3/envs/tensorflow_p36/lib/python3.6/importlib/_bootstrap.py:219: RuntimeWarning: compiletime version 3.5 of module 'tensorflow.python.framework.fast_tensor_util' does not match runtime version 3.6\n",
      "  return f(*args, **kwds)\n",
      "/home/ubuntu/anaconda3/envs/tensorflow_p36/lib/python3.6/site-packages/h5py/__init__.py:36: FutureWarning: Conversion of the second argument of issubdtype from `float` to `np.floating` is deprecated. In future, it will be treated as `np.float64 == np.dtype(float).type`.\n",
      "  from ._conv import register_converters as _register_converters\n"
     ]
    },
    {
     "name": "stdout",
     "output_type": "stream",
     "text": [
      "Load smile image...................\n",
      "Done !\n",
      "Number of smile train data:  3000\n",
      "---------------------------------------------------------------\n",
      "Load gender image...................\n",
      "Done !\n",
      "Number of gender train data:  96000\n",
      "---------------------------------------------------------------\n",
      "Load age image...................\n",
      "Done !\n",
      "Number of age train data:  96000\n",
      "---------------------------------------------------------------\n"
     ]
    },
    {
     "data": {
      "text/plain": [
       "'--------------------------------------------------------------------------------------------'"
      ]
     },
     "execution_count": 1,
     "metadata": {},
     "output_type": "execute_result"
    }
   ],
   "source": [
    "import CNN2Head_input2 as CNN2Head_input\n",
    "import tensorflow as tf\n",
    "import numpy as np\n",
    "import BKNetStyle2 as BKNetStyle\n",
    "from const import *\n",
    "\n",
    "''' PREPARE DATA '''\n",
    "smile_train, smile_test = CNN2Head_input.getSmileImage()\n",
    "gender_train, gender_test = CNN2Head_input.getGenderImage()\n",
    "age_train, age_test = CNN2Head_input.getAgeImage()\n",
    "'''--------------------------------------------------------------------------------------------'''"
   ]
  },
  {
   "cell_type": "code",
   "execution_count": 2,
   "metadata": {},
   "outputs": [],
   "source": [
    "def one_hot(index, num_classes):\n",
    "    assert index < num_classes and index >= 0\n",
    "    tmp = np.zeros(num_classes, dtype=np.float32)\n",
    "    tmp[index] = 1.0\n",
    "    return tmp"
   ]
  },
  {
   "cell_type": "code",
   "execution_count": 3,
   "metadata": {},
   "outputs": [],
   "source": [
    "sess = tf.InteractiveSession()\n",
    "x, y_, mask = BKNetStyle.Input()\n",
    "\n",
    "y_smile_conv, y_gender_conv, y_age_conv, phase_train, keep_prob = BKNetStyle.BKNetModel(x)"
   ]
  },
  {
   "cell_type": "code",
   "execution_count": 4,
   "metadata": {},
   "outputs": [],
   "source": [
    "def my_confusion_matrix(y_true, y_pred):\n",
    "    N = np.unique(y_true).shape[0] # number of classes \n",
    "    cm = np.zeros((N, N))\n",
    "    for n in range(y_true.shape[0]):\n",
    "        cm[y_true[n], y_pred[n]] += 1\n",
    "    return cm "
   ]
  },
  {
   "cell_type": "code",
   "execution_count": 5,
   "metadata": {},
   "outputs": [
    {
     "name": "stdout",
     "output_type": "stream",
     "text": [
      "Restore model\n",
      "INFO:tensorflow:Restoring parameters from ./save/current2/model-age101.ckpt\n",
      "OK\n",
      "\n",
      "\n",
      "Smile task train accuracy: 90.82568807339449\n",
      "Gender task train accuracy: 90.75769439257965\n",
      "Age task train error: 21.2893\n"
     ]
    }
   ],
   "source": [
    "smile_loss, gender_loss, age_loss, l2_loss, loss = BKNetStyle.selective_loss(y_smile_conv, y_gender_conv,\n",
    "                                                                             y_age_conv, y_, mask)\n",
    "smile_mask = tf.get_collection('smile_mask')[0]\n",
    "gender_mask = tf.get_collection('gender_mask')[0]\n",
    "age_mask = tf.get_collection('age_mask')[0]\n",
    "\n",
    "y_smile = tf.get_collection('y_smile')[0]\n",
    "y_gender = tf.get_collection('y_gender')[0]\n",
    "y_age = tf.get_collection('y_age')[0]\n",
    "\n",
    "smile_correct_prediction = tf.equal(tf.argmax(y_smile_conv, 1), tf.argmax(y_smile, 1))\n",
    "gender_correct_prediction = tf.equal(tf.argmax(y_gender_conv, 1), tf.argmax(y_gender, 1))\n",
    "# age_correct_prediction = tf.equal(tf.argmax(y_age_conv, 1), tf.argmax(y_age, 1))\n",
    "\n",
    "smile_true_pred = tf.reduce_sum(tf.cast(smile_correct_prediction, dtype=tf.float32) * smile_mask)\n",
    "gender_true_pred = tf.reduce_sum(tf.cast(gender_correct_prediction, dtype=tf.float32) * gender_mask)\n",
    "age_mae, update_op = tf.metrics.mean_absolute_error(\n",
    "    tf.argmax(y_age, 1), tf.argmax(y_age_conv, 1), name=\"age_mae\")\n",
    "running_vars = tf.get_collection(tf.GraphKeys.LOCAL_VARIABLES, scope=\"age_mae\")\n",
    "running_vars_initializer = tf.variables_initializer(var_list=running_vars)\n",
    "sess.run(running_vars_initializer)\n",
    "\n",
    "test_data = []\n",
    "\n",
    "# Mask: Smile -> 0, Gender -> 1, Age -> 2\n",
    "for i in range(len(smile_test)):\n",
    "    img = (smile_test[i % 3000][0] - 128) / 255.0\n",
    "    label = smile_test[i % 3000][1]\n",
    "    test_data.append((img, one_hot(label, 101), 0.0))\n",
    "for i in range(len(gender_test)):\n",
    "    img = (gender_test[i][0] - 128) / 255.0\n",
    "    label = (int)(gender_test[i][1])\n",
    "    test_data.append((img, one_hot(label, 101), 1.0))\n",
    "for i in range(len(age_test)):\n",
    "    img = (age_test[i][0] - 128) / 255.0\n",
    "    label = (int)(age_test[i][1])\n",
    "    test_data.append((img, one_hot(label, 101), 2.0))\n",
    "np.random.shuffle(test_data)\n",
    "\n",
    "print('Restore model')\n",
    "saver = tf.train.Saver()\n",
    "saver.restore(sess, SAVE_FOLDER2 + 'model-age101.ckpt')\n",
    "print('OK')\n",
    "\n",
    "train_img = []\n",
    "train_label = []\n",
    "train_mask = []\n",
    "\n",
    "for i in range(len(test_data)):\n",
    "    train_img.append(test_data[i][0])\n",
    "    train_label.append(test_data[i][1])\n",
    "    train_mask.append(test_data[i][2])\n",
    "\n",
    "number_batch = len(test_data) // BATCH_SIZE\n",
    "\n",
    "smile_nb_true_pred = 0\n",
    "gender_nb_true_pred = 0\n",
    "\n",
    "smile_nb_train = 0\n",
    "gender_nb_train = 0\n",
    "age_nb_train = 0\n",
    "\n",
    "y_smile_pred = np.array([])\n",
    "y_smile_true = np.array([])\n",
    "y_gender_pred = np.array([])\n",
    "y_gender_true = np.array([])\n",
    "y_age_pred = np.array([])\n",
    "y_age_true = np.array([])\n",
    "\n",
    "for batch in range(number_batch):\n",
    "\n",
    "    top = batch * BATCH_SIZE\n",
    "    bot = min((batch + 1) * BATCH_SIZE, len(test_data))\n",
    "    batch_img = np.asarray(train_img[top:bot])\n",
    "    batch_label = np.asarray(train_label[top:bot])\n",
    "    batch_mask = np.asarray(train_mask[top:bot])\n",
    "\n",
    "    # batch_img = CNN2Head_input.random_crop(batch_img, (48, 48), 10)\n",
    "\n",
    "    for i in range(BATCH_SIZE):\n",
    "        if batch_mask[i] == 0.0:\n",
    "            smile_nb_train += 1\n",
    "        else:\n",
    "            if batch_mask[i] == 1.0:\n",
    "                gender_nb_train += 1\n",
    "            else:\n",
    "                age_nb_train += 1\n",
    "\n",
    "    smile_nb_true_pred += sess.run(smile_true_pred, feed_dict={x: batch_img, y_: batch_label, mask: batch_mask,\n",
    "                                                               phase_train: False,\n",
    "                                                               keep_prob: 1})\n",
    "\n",
    "    gender_nb_true_pred += sess.run(gender_true_pred,\n",
    "                                    feed_dict={x: batch_img, y_: batch_label, mask: batch_mask,\n",
    "                                               phase_train: False,\n",
    "                                               keep_prob: 1})\n",
    "\n",
    "    sess.run(update_op,\n",
    "            feed_dict={x: batch_img, y_: batch_label, mask: batch_mask,\n",
    "                       phase_train: False,\n",
    "                       keep_prob: 1})\n",
    "    \n",
    "    batch_smile_true, batch_smile_pred = sess.run([tf.argmax(y_smile, 1), tf.argmax(y_smile_conv, 1)],\n",
    "            feed_dict={x: batch_img, y_: batch_label, mask: batch_mask,\n",
    "                       phase_train: False,\n",
    "                       keep_prob: 1})\n",
    "    \n",
    "    batch_gender_true, batch_gender_pred = sess.run([tf.argmax(y_gender, 1), tf.argmax(y_gender_conv, 1)],\n",
    "            feed_dict={x: batch_img, y_: batch_label, mask: batch_mask,\n",
    "                       phase_train: False,\n",
    "                       keep_prob: 1})\n",
    "    \n",
    "    batch_age_true, batch_age_pred = sess.run([tf.argmax(y_age, 1), tf.argmax(y_age_conv, 1)],\n",
    "            feed_dict={x: batch_img, y_: batch_label, mask: batch_mask,\n",
    "                       phase_train: False,\n",
    "                       keep_prob: 1})\n",
    "       \n",
    "    y_smile_true = np.append(y_smile_true, batch_smile_true)\n",
    "    y_smile_pred = np.append(y_smile_pred, batch_smile_pred)\n",
    "    y_gender_true = np.append(y_gender_true, batch_gender_true)\n",
    "    y_gender_pred = np.append(y_gender_pred, batch_gender_pred)\n",
    "    y_age_true = np.append(y_age_true, batch_age_true)\n",
    "    y_age_pred = np.append(y_age_pred, batch_age_pred)    \n",
    "\n",
    "smile_train_accuracy = smile_nb_true_pred * 1.0 / smile_nb_train\n",
    "gender_train_accuracy = gender_nb_true_pred * 1.0 / gender_nb_train\n",
    "age_train_error = sess.run(age_mae)\n",
    "\n",
    "print('\\n')\n",
    "print('Smile task train accuracy: ' + str(smile_train_accuracy * 100))\n",
    "print('Gender task train accuracy: ' + str(gender_train_accuracy * 100))\n",
    "print('Age task train error: ' + str(age_train_error))"
   ]
  },
  {
   "cell_type": "code",
   "execution_count": 6,
   "metadata": {},
   "outputs": [
    {
     "data": {
      "text/plain": [
       "array([1., 1., 0., ..., 1., 0., 1.])"
      ]
     },
     "execution_count": 6,
     "metadata": {},
     "output_type": "execute_result"
    }
   ],
   "source": [
    "y_smile_true"
   ]
  },
  {
   "cell_type": "code",
   "execution_count": 7,
   "metadata": {},
   "outputs": [],
   "source": [
    "y_smile_pred_2 = y_smile_pred.astype(int)\n",
    "y_smile_true_2 = y_smile_true.astype(int)\n",
    "y_gender_pred_2 = y_gender_pred.astype(int)\n",
    "y_gender_true_2 = y_gender_true.astype(int)\n",
    "y_age_pred_2 = y_age_pred.astype(int)\n",
    "y_age_true_2 = y_age_true.astype(int)"
   ]
  },
  {
   "cell_type": "code",
   "execution_count": 8,
   "metadata": {},
   "outputs": [
    {
     "name": "stdout",
     "output_type": "stream",
     "text": [
      "67072\n",
      "67072\n",
      "67072\n",
      "67072\n",
      "67072\n",
      "67072\n"
     ]
    }
   ],
   "source": [
    "print(len(y_smile_pred))\n",
    "print(len(y_smile_true))\n",
    "print(len(y_gender_pred))\n",
    "print(len(y_gender_true))\n",
    "print(len(y_age_pred))\n",
    "print(len(y_age_true))"
   ]
  },
  {
   "cell_type": "code",
   "execution_count": 9,
   "metadata": {},
   "outputs": [
    {
     "data": {
      "text/plain": [
       "array([ 0,  1,  2,  3,  4,  5,  6,  7,  8,  9, 10, 11, 12, 13, 14, 15, 16,\n",
       "       17, 18, 19, 20, 21, 22, 23, 24, 25, 26, 27, 28, 29, 30, 31, 32, 33,\n",
       "       34, 35, 36, 37, 38, 39, 40, 41, 42, 43, 44, 45, 46, 47, 48, 49, 50,\n",
       "       51, 52, 53, 54, 55, 56, 57, 58, 59, 60, 61, 62, 63, 64, 65, 66, 67,\n",
       "       68, 69, 70, 71, 72, 73, 74, 75, 76, 77, 78, 79, 80, 81, 82, 83, 84,\n",
       "       85, 86, 87, 88, 89, 90, 91, 92, 93, 95, 96])"
      ]
     },
     "execution_count": 9,
     "metadata": {},
     "output_type": "execute_result"
    }
   ],
   "source": [
    "np.unique(y_age_true).astype(int)"
   ]
  },
  {
   "cell_type": "code",
   "execution_count": 10,
   "metadata": {},
   "outputs": [],
   "source": [
    "from sklearn.metrics import confusion_matrix"
   ]
  },
  {
   "cell_type": "code",
   "execution_count": 34,
   "metadata": {},
   "outputs": [],
   "source": [
    "import matplotlib.pyplot as plt\n",
    "import itertools\n",
    "def plot_confusion_matrix(cm, classes,\n",
    "                          normalize=False,\n",
    "                          title='Confusion matrix',\n",
    "                          cmap=plt.cm.Blues):\n",
    "    \"\"\"\n",
    "    This function prints and plots the confusion matrix.\n",
    "    Normalization can be applied by setting `normalize=True`.\n",
    "    \"\"\"\n",
    "    if normalize:\n",
    "        cm = cm.astype('float') / cm.sum(axis=1, keepdims = True)\n",
    "\n",
    "    plt.imshow(cm, interpolation='nearest', cmap=cmap)\n",
    "    plt.title(title)\n",
    "    plt.colorbar()\n",
    "    tick_marks = np.arange(len(classes))\n",
    "    plt.xticks(tick_marks, classes, rotation=45)\n",
    "    plt.yticks(tick_marks, classes)\n",
    "\n",
    "    fmt = '.2f' if normalize else 'd'\n",
    "    thresh = cm.max() / 2.\n",
    "    for i, j in itertools.product(range(cm.shape[0]), range(cm.shape[1])):\n",
    "        plt.text(j, i, format(cm[i, j], fmt),\n",
    "                 horizontalalignment=\"center\",\n",
    "                 color=\"white\" if cm[i, j] > thresh else \"black\")\n",
    "\n",
    "    plt.tight_layout()\n",
    "    plt.ylabel('True label')\n",
    "    plt.xlabel('Predicted label')"
   ]
  },
  {
   "cell_type": "code",
   "execution_count": 39,
   "metadata": {},
   "outputs": [
    {
     "name": "stdout",
     "output_type": "stream",
     "text": [
      "Confusion matrix:\n",
      "[[27311 21625]\n",
      " [ 6296 11840]]\n"
     ]
    },
    {
     "data": {
      "image/png": "[encoded data removed]",
      "text/plain": [
       "<matplotlib.figure.Figure at 0x7f28b12d7630>"
      ]
     },
     "metadata": {},
     "output_type": "display_data"
    }
   ],
   "source": [
    "cnf_matrix = confusion_matrix(y_smile_true_2, y_smile_pred_2)\n",
    "print('Confusion matrix:')\n",
    "print(cnf_matrix)\n",
    "\n",
    "# Plot non-normalized confusion matrix\n",
    "class_names = np.unique(y_smile_true).astype(int)\n",
    "# plot_confusion_matrix(cnf_matrix, classes=class_names,\n",
    "#                       title='Confusion matrix, without normalization')\n",
    "\n",
    "# Plot normalized confusion matrix\n",
    "# plt.figure(num=None, figsize=(8, 6), dpi=100, facecolor='w', edgecolor='k')\n",
    "plot_confusion_matrix(cnf_matrix, classes=class_names, normalize=True,\n",
    "                      title='Normalized confusion matrix')\n",
    "\n",
    "plt.show()"
   ]
  },
  {
   "cell_type": "code",
   "execution_count": 36,
   "metadata": {},
   "outputs": [
    {
     "name": "stdout",
     "output_type": "stream",
     "text": [
      "Confusion matrix:\n",
      "[[29317 19619]\n",
      " [ 1745 16391]]\n"
     ]
    },
    {
     "data": {
      "image/png": "[encoded data removed]",
      "text/plain": [
       "<matplotlib.figure.Figure at 0x7f28b1575cf8>"
      ]
     },
     "metadata": {},
     "output_type": "display_data"
    }
   ],
   "source": [
    "cnf_matrix = confusion_matrix(y_gender_true_2, y_gender_pred_2)\n",
    "print('Confusion matrix:')\n",
    "print(cnf_matrix)\n",
    "\n",
    "# Plot non-normalized confusion matrix\n",
    "class_names = np.unique(y_smile_true).astype(int)\n",
    "# plot_confusion_matrix(cnf_matrix, classes=class_names,\n",
    "#                       title='Confusion matrix, without normalization')\n",
    "\n",
    "# Plot normalized confusion matrix\n",
    "# plt.figure(num=None, figsize=(8, 6), dpi=100, facecolor='w', edgecolor='k')\n",
    "plot_confusion_matrix(cnf_matrix, classes=class_names, normalize=True,\n",
    "                      title='Normalized confusion matrix')\n",
    "\n",
    "plt.show()"
   ]
  },
  {
   "cell_type": "code",
   "execution_count": 16,
   "metadata": {},
   "outputs": [
    {
     "name": "stdout",
     "output_type": "stream",
     "text": [
      "Confusion matrix:\n",
      "[[0 0 0 ... 0 0 0]\n",
      " [0 0 0 ... 0 0 0]\n",
      " [0 0 0 ... 0 0 0]\n",
      " ...\n",
      " [0 0 0 ... 0 0 0]\n",
      " [0 0 0 ... 0 0 0]\n",
      " [0 0 0 ... 0 0 0]]\n"
     ]
    },
    {
     "data": {
      "image/png": "[encoded data removed]",
      "text/plain": [
       "<matplotlib.figure.Figure at 0x7f28b2ed0b00>"
      ]
     },
     "metadata": {},
     "output_type": "display_data"
    }
   ],
   "source": [
    "cnf_matrix = confusion_matrix(y_age_true_2, y_age_pred_2)\n",
    "print('Confusion matrix:')\n",
    "print(cnf_matrix)\n",
    "\n",
    "# Plot non-normalized confusion matrix\n",
    "class_names = np.unique(y_age_true).astype(int)\n",
    "# plot_confusion_matrix(cnf_matrix, classes=class_names,\n",
    "#                       title='Confusion matrix, without normalization')\n",
    "\n",
    "# Plot normalized confusion matrix\n",
    "plt.figure(num=None, figsize=(8, 6), dpi=100, facecolor='w', edgecolor='k')\n",
    "plot_confusion_matrix(cnf_matrix, classes=class_names, normalize=True,\n",
    "                      title='Normalized confusion matrix')\n",
    "\n",
    "plt.show()"
   ]
  },
  {
   "cell_type": "code",
   "execution_count": null,
   "metadata": {},
   "outputs": [],
   "source": []
  }
 ],
 "metadata": {
  "kernelspec": {
   "display_name": "Python 3",
   "language": "python",
   "name": "python3"
  },
  "language_info": {
   "codemirror_mode": {
    "name": "ipython",
    "version": 3
   },
   "file_extension": ".py",
   "mimetype": "text/x-python",
   "name": "python",
   "nbconvert_exporter": "python",
   "pygments_lexer": "ipython3",
   "version": "3.6.3"
  }
 },
 "nbformat": 4,
 "nbformat_minor": 2
}

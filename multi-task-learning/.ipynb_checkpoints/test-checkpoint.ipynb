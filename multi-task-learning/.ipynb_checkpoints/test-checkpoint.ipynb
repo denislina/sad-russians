{
 "cells": [
  {
   "cell_type": "code",
   "execution_count": 1,
   "metadata": {},
   "outputs": [
    {
     "name": "stderr",
     "output_type": "stream",
     "text": [
      "/home/ubuntu/anaconda3/envs/tensorflow_p36/lib/python3.6/importlib/_bootstrap.py:219: RuntimeWarning: compiletime version 3.5 of module 'tensorflow.python.framework.fast_tensor_util' does not match runtime version 3.6\n",
      "  return f(*args, **kwds)\n"
     ]
    }
   ],
   "source": [
    "import CNN2Head_input\n",
    "import tensorflow as tf\n",
    "import numpy as np\n",
    "import BKNetStyle\n",
    "from const import *\n",
    "import cv2\n",
    "\n",
    "from IPython.display import Image, display"
   ]
  },
  {
   "cell_type": "code",
   "execution_count": 2,
   "metadata": {},
   "outputs": [],
   "source": [
    "sess = tf.InteractiveSession()\n",
    "x = tf.placeholder(tf.float32, [None, 48, 48, 1])\n",
    "\n",
    "y_smile_conv, y_gender_conv, y_age_conv, phase_train, keep_prob = BKNetStyle.BKNetModel(x)"
   ]
  },
  {
   "cell_type": "code",
   "execution_count": 9,
   "metadata": {
    "scrolled": false
   },
   "outputs": [
    {
     "name": "stdout",
     "output_type": "stream",
     "text": [
      "Restore model\n",
      "INFO:tensorflow:Restoring parameters from ./save/current/model.ckpt\n",
      "OK\n"
     ]
    },
    {
     "data": {
      "image/jpeg": "[encoded data removed]",
      "text/plain": [
       "<IPython.core.display.Image object>"
      ]
     },
     "metadata": {
      "image/jpeg": {
       "height": 100,
       "width": 100
      }
     },
     "output_type": "display_data"
    },
    {
     "name": "stdout",
     "output_type": "stream",
     "text": [
      "Smile: Yes [[ 0.00668042  0.99331963]]\n",
      "Gender: Female [[ 0.70619285  0.29380712]]\n",
      "Age: Middle (30 <= age <45) [[ 0.34444451  0.44706547  0.17603277  0.0324572 ]]\n"
     ]
    }
   ],
   "source": [
    "PATH = '/home/ubuntu/coding/cnn/datasets/genki4k/files/file0009.jpg'\n",
    "img = cv2.imread(PATH)\n",
    "img = cv2.cvtColor(img, cv2.COLOR_BGR2GRAY)\n",
    "img = cv2.resize(img,(48, 48))\n",
    "\n",
    "img = (img - 128) / 255.0\n",
    "T = np.zeros([48, 48, 1])\n",
    "T[:, :, 0] = img\n",
    "test_img = []\n",
    "test_img.append(T)\n",
    "test_img = np.asarray(test_img)\n",
    "\n",
    "print('Restore model')\n",
    "saver = tf.train.Saver()\n",
    "saver.restore(sess, SAVE_FOLDER + 'model.ckpt')\n",
    "print('OK')\n",
    "\n",
    "display(Image(filename = PATH, width=100, height=100))\n",
    "\n",
    "predict_y_smile_conv = sess.run(y_smile_conv, feed_dict={x: test_img, phase_train: False, keep_prob: 1})\n",
    "predict_y_gender_conv = sess.run(y_gender_conv, feed_dict={x: test_img, phase_train: False, keep_prob: 1})\n",
    "predict_y_age_conv = sess.run(y_age_conv, feed_dict={x: test_img, phase_train: False, keep_prob: 1})\n",
    "\n",
    "smile_label = \"No \" if np.argmax(predict_y_smile_conv)==0 else \"Yes \"\n",
    "gender_label = \"Female \" if np.argmax(predict_y_gender_conv)==0 else \"Male \"\n",
    "argmax_predict_age = np.argmax(predict_y_age_conv)\n",
    "if argmax_predict_age==0:\n",
    "    age_label = \"Young (age < 30yrs) \"\n",
    "elif argmax_predict_age==1:\n",
    "    age_label = \"Middle (30 <= age <45) \"\n",
    "elif argmax_predict_age==2:\n",
    "    age_label = \"Old (45 <= age < 60) \"\n",
    "else :\n",
    "    age_label = \"Very Old (60 <= age) \"\n",
    "\n",
    "print('Smile: ' + smile_label + str(predict_y_smile_conv))\n",
    "print('Gender: ' + gender_label + str(predict_y_gender_conv))\n",
    "print('Age: ' + age_label + str(predict_y_age_conv))"
   ]
  },
  {
   "cell_type": "code",
   "execution_count": 7,
   "metadata": {
    "scrolled": false
   },
   "outputs": [
    {
     "name": "stdout",
     "output_type": "stream",
     "text": [
      "Restore model\n",
      "INFO:tensorflow:Restoring parameters from ./save/current/model.ckpt\n",
      "OK\n"
     ]
    },
    {
     "data": {
      "image/jpeg": "[encoded data removed]",
      "text/plain": [
       "<IPython.core.display.Image object>"
      ]
     },
     "metadata": {
      "image/jpeg": {
       "height": 100,
       "width": 100
      }
     },
     "output_type": "display_data"
    },
    {
     "name": "stdout",
     "output_type": "stream",
     "text": [
      "Smile: Yes [[ 0.00149914  0.99850082]]\n",
      "Gender: Male [[ 0.24222387  0.75777608]]\n",
      "Age: Middle (30 <= age <45) [[ 0.11998766  0.42773849  0.35627618  0.09599768]]\n"
     ]
    }
   ],
   "source": [
    "PATH = '/home/ubuntu/coding/cnn/datasets/imdb_crop/00/nm0000100_rm3653409024_1955-1-6_2003.jpg'\n",
    "img = cv2.imread(PATH)\n",
    "img = cv2.cvtColor(img, cv2.COLOR_BGR2GRAY)\n",
    "img = cv2.resize(img,(48, 48))\n",
    "\n",
    "img = (img - 128) / 255.0\n",
    "T = np.zeros([48, 48, 1])\n",
    "T[:, :, 0] = img\n",
    "test_img = []\n",
    "test_img.append(T)\n",
    "test_img = np.asarray(test_img)\n",
    "\n",
    "print('Restore model')\n",
    "saver = tf.train.Saver()\n",
    "saver.restore(sess, SAVE_FOLDER + 'model.ckpt')\n",
    "print('OK')\n",
    "\n",
    "display(Image(filename = PATH, width=100, height=100))\n",
    "\n",
    "predict_y_smile_conv = sess.run(y_smile_conv, feed_dict={x: test_img, phase_train: False, keep_prob: 1})\n",
    "predict_y_gender_conv = sess.run(y_gender_conv, feed_dict={x: test_img, phase_train: False, keep_prob: 1})\n",
    "predict_y_age_conv = sess.run(y_age_conv, feed_dict={x: test_img, phase_train: False, keep_prob: 1})\n",
    "\n",
    "smile_label = \"No \" if np.argmax(predict_y_smile_conv)==0 else \"Yes \"\n",
    "gender_label = \"Female \" if np.argmax(predict_y_gender_conv)==0 else \"Male \"\n",
    "argmax_predict_age = np.argmax(predict_y_age_conv)\n",
    "if argmax_predict_age==0:\n",
    "    age_label = \"Young (age < 30yrs) \"\n",
    "elif argmax_predict_age==1:\n",
    "    age_label = \"Middle (30 <= age <45) \"\n",
    "elif argmax_predict_age==2:\n",
    "    age_label = \"Old (45 <= age < 60) \"\n",
    "else :\n",
    "    age_label = \"Very Old (60 <= age) \"\n",
    "\n",
    "print('Smile: ' + smile_label + str(predict_y_smile_conv))\n",
    "print('Gender: ' + gender_label + str(predict_y_gender_conv))\n",
    "print('Age: ' + age_label + str(predict_y_age_conv))"
   ]
  },
  {
   "cell_type": "code",
   "execution_count": null,
   "metadata": {},
   "outputs": [],
   "source": []
  }
 ],
 "metadata": {
  "kernelspec": {
   "display_name": "Python 3",
   "language": "python",
   "name": "python3"
  },
  "language_info": {
   "codemirror_mode": {
    "name": "ipython",
    "version": 3
   },
   "file_extension": ".py",
   "mimetype": "text/x-python",
   "name": "python",
   "nbconvert_exporter": "python",
   "pygments_lexer": "ipython3",
   "version": "3.6.3"
  }
 },
 "nbformat": 4,
 "nbformat_minor": 2
}

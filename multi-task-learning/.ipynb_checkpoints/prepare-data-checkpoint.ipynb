{
 "cells": [
  {
   "cell_type": "code",
   "execution_count": 1,
   "metadata": {},
   "outputs": [],
   "source": [
    "import pickle\n",
    "import cv2\n",
    "import numpy as np"
   ]
  },
  {
   "cell_type": "code",
   "execution_count": 2,
   "metadata": {},
   "outputs": [],
   "source": [
    "def PrepareSmileData():\n",
    "    SMILE_FOLDER = '../datasets/genki4k/'\n",
    "    F_SMILE_FOLDER = './data/smile_data/'\n",
    "    NUM_SMILE_IMAGE = 4000\n",
    "    SMILE_SIZE = 48\n",
    "\n",
    "    X = []\n",
    "    with open(SMILE_FOLDER + \"labels.txt\") as f:\n",
    "        for i in range(NUM_SMILE_IMAGE):\n",
    "            fileName = SMILE_FOLDER + \"files/file\" + str(\"%04d\" % (1+i,)) + \".jpg\"\n",
    "#             print fileName\n",
    "            img = cv2.imread(fileName)\n",
    "            img = cv2.cvtColor(img, cv2.COLOR_BGR2GRAY)\n",
    "            img = cv2.resize(img, (48, 48))\n",
    "            T = np.zeros([SMILE_SIZE, SMILE_SIZE, 1])\n",
    "            T[:, :, 0] = img\n",
    "            l = f.readline()\n",
    "            label = (int)(l.split()[0])\n",
    "            X.append((T, label))\n",
    "    for _ in range(10):\n",
    "        np.random.shuffle(X)\n",
    "\n",
    "    train_data, test_data = X[:3000], X[3000:]\n",
    "\n",
    "    np.save(F_SMILE_FOLDER + 'train.npy', train_data)\n",
    "    np.save(F_SMILE_FOLDER + 'test.npy', test_data)\n",
    "\n",
    "PrepareSmileData()"
   ]
  },
  {
   "cell_type": "code",
   "execution_count": 4,
   "metadata": {},
   "outputs": [
    {
     "name": "stdout",
     "output_type": "stream",
     "text": [
      "i: 0\n",
      "i: 10000\n",
      "i: 20000\n",
      "i: 30000\n",
      "i: 40000\n",
      "i: 50000\n",
      "i: 60000\n",
      "i: 70000\n",
      "i: 80000\n",
      "i: 90000\n",
      "i: 100000\n",
      "i: 110000\n",
      "i: 120000\n",
      "i: 130000\n",
      "i: 140000\n",
      "i: 150000\n",
      "i: 160000\n"
     ]
    }
   ],
   "source": [
    "def PrepareIMDB():\n",
    "    F_AGE_FOLDER = './data/age_data/'\n",
    "    F_GENDER_FOLDER = './data/gender_data/'\n",
    "\n",
    "    f = open('/home/ubuntu/coding/cnn/multi-task-learning/pkl_folder/imdb-age-gender.pkl', 'rb')\n",
    "    imdbAgeGender = pickle.load(f)\n",
    "    age = imdbAgeGender['age']\n",
    "    gender = imdbAgeGender['gender']\n",
    "    imgs = imdbAgeGender['imgs']\n",
    "    f.close()\n",
    "    n = len(gender)\n",
    "\n",
    "    X_age = []\n",
    "    X_gender = []\n",
    "\n",
    "    for i in range(n):\n",
    "        if i%10000==0:\n",
    "            print(\"i: {}\".format(i))\n",
    "#         fileName = IMDB_FOLDER + str(i) + '.jpg'\n",
    "        img = cv2.imread(imgs[i])\n",
    "        img = cv2.cvtColor(img, cv2.COLOR_BGR2GRAY)\n",
    "        img = cv2.resize(img,(48, 48))\n",
    "\n",
    "        T = np.zeros([48, 48, 1])\n",
    "        T[:, :, 0] = img\n",
    "\n",
    "        label_age = age[i]\n",
    "        label_gender = gender[i]\n",
    "        X_age.append((T, label_age))\n",
    "        X_gender.append((T, label_gender))\n",
    "\n",
    "    for _ in range(10):\n",
    "        np.random.shuffle(X_age)\n",
    "        np.random.shuffle(X_gender)\n",
    "\n",
    "    train_data_age, test_data_age = X_age[:150000], X_age[150000:]\n",
    "    train_data_gender, test_data_gender = X_gender[:150000], X_gender[150000:]\n",
    "\n",
    "    np.save(F_AGE_FOLDER + 'train.npy', train_data_age)\n",
    "    np.save(F_AGE_FOLDER + 'data.npy', X_age)\n",
    "    np.save(F_AGE_FOLDER + 'test.npy', test_data_age)\n",
    "    \n",
    "    np.save(F_GENDER_FOLDER + 'train.npy', train_data_gender)\n",
    "    np.save(F_GENDER_FOLDER + 'data.npy', X_gender)\n",
    "    np.save(F_GENDER_FOLDER + 'test.npy', test_data_gender)\n",
    "    \n",
    "PrepareIMDB()"
   ]
  }
 ],
 "metadata": {
  "kernelspec": {
   "display_name": "Environment (conda_tensorflow_p36)",
   "language": "python",
   "name": "conda_tensorflow_p36"
  },
  "language_info": {
   "codemirror_mode": {
    "name": "ipython",
    "version": 3
   },
   "file_extension": ".py",
   "mimetype": "text/x-python",
   "name": "python",
   "nbconvert_exporter": "python",
   "pygments_lexer": "ipython3",
   "version": "3.6.3"
  }
 },
 "nbformat": 4,
 "nbformat_minor": 2
}
